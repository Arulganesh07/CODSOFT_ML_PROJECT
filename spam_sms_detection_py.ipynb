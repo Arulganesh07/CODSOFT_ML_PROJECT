{
  "nbformat": 4,
  "nbformat_minor": 0,
  "metadata": {
    "colab": {
      "provenance": []
    },
    "kernelspec": {
      "name": "python3",
      "display_name": "Python 3"
    },
    "language_info": {
      "name": "python"
    }
  },
  "cells": [
    {
      "cell_type": "code",
      "source": [
        "import numpy as np\n",
        "import pandas as pd\n",
        "from sklearn import feature_extraction\n",
        "from sklearn.model_selection import train_test_split\n",
        "from sklearn.feature_extraction.text import TfidfVectorizer\n",
        "from sklearn.linear_model import LogisticRegression\n",
        "from sklearn.metrics import accuracy_score\n",
        "\n",
        "# Try a different encoding, like 'latin-1'\n",
        "df = pd.read_csv(\"spam.csv\", encoding='latin-1')\n",
        "# If 'latin-1' doesn't work, you may need to experiment with other encodings\n",
        "\n",
        "data = df.where((pd.notnull(df)), '')\n",
        "\n",
        "# Fix the infinite recursion in get_lang.\n",
        "# Replace this function with actual logic to determine language\n",
        "def get_lang(text):\n",
        "    # Add your language detection logic here.\n",
        "    # For example, you could use a library like langdetect\n",
        "    return \"unknown\"\n",
        "\n",
        "data[\"lang\"] = data[\"v2\"].apply(get_lang)\n",
        "pos = data[data[\"lang\"] != \"en\"].index\n",
        "only_en = data.drop(index=pos)\n",
        "only_en[\"lang\"].unique()\n",
        "data.loc[data['v1'] == 'spam', 'label_num'] = 0\n",
        "data.loc[data['v1'] == 'ham', 'label_num'] = 1\n",
        "x = data['v2']\n",
        "y = data['label_num']\n",
        "x_train, x_test, y_train, y_test = train_test_split(x, y, test_size=0.2, random_state=3)\n",
        "feature_extraction = TfidfVectorizer(min_df=1, stop_words=\"english\", lowercase=True)\n",
        "x_train_features = feature_extraction.fit_transform(x_train)\n",
        "x_test_features = feature_extraction.transform(x_test)\n",
        "y_train = y_train.astype('int')\n",
        "y_test = y_test.astype('int')\n",
        "model = LogisticRegression()\n",
        "model.fit(x_train_features, y_train)\n",
        "prediction_on_training_data = model.predict(x_train_features)\n",
        "accuracy_on_training_data = accuracy_score(y_train, prediction_on_training_data)\n",
        "prediction_on_test_data = model.predict(x_test_features)\n",
        "accuracy_on_test_data = accuracy_score(y_test, prediction_on_test_data)\n",
        "print(accuracy_on_test_data)\n",
        "inputs = input(\"please type a message:\")\n",
        "input_mail = [str(inputs)]\n",
        "input_data_features = feature_extraction.transform(input_mail)\n",
        "prediction = model.predict(input_data_features)\n",
        "print(prediction)\n",
        "if prediction[0] == 1:\n",
        "    print(\"Ham mail\")\n",
        "else:\n",
        "    print(\"Spam mail\")"
      ],
      "metadata": {
        "colab": {
          "base_uri": "https://localhost:8080/"
        },
        "id": "6IhV2gE5WpWb",
        "outputId": "4ffad54d-2df9-45e6-b7ea-4eabcd35192e"
      },
      "execution_count": null,
      "outputs": [
        {
          "output_type": "stream",
          "name": "stdout",
          "text": [
            "0.9623318385650225\n",
            "please type a message:afbdbhmsermhthjf\n",
            "[1]\n",
            "Ham mail\n"
          ]
        }
      ]
    }
  ]
}